{
 "cells": [
  {
   "cell_type": "markdown",
   "metadata": {},
   "source": [
    "# U.S. Medical Insurance Costs"
   ]
  },
  {
   "cell_type": "code",
   "execution_count": 4,
   "metadata": {},
   "outputs": [],
   "source": [
    "import csv\n",
    "import pandas as pd"
   ]
  },
  {
   "cell_type": "code",
   "execution_count": 20,
   "metadata": {},
   "outputs": [],
   "source": [
    "with open('insurance.csv') as insurance:\n",
    "    df = pd.read_csv(insurance)\n"
   ]
  },
  {
   "cell_type": "code",
   "execution_count": 12,
   "metadata": {},
   "outputs": [
    {
     "data": {
      "text/html": [
       "<div>\n",
       "<style scoped>\n",
       "    .dataframe tbody tr th:only-of-type {\n",
       "        vertical-align: middle;\n",
       "    }\n",
       "\n",
       "    .dataframe tbody tr th {\n",
       "        vertical-align: top;\n",
       "    }\n",
       "\n",
       "    .dataframe thead th {\n",
       "        text-align: right;\n",
       "    }\n",
       "</style>\n",
       "<table border=\"1\" class=\"dataframe\">\n",
       "  <thead>\n",
       "    <tr style=\"text-align: right;\">\n",
       "      <th></th>\n",
       "      <th>age</th>\n",
       "      <th>sex</th>\n",
       "      <th>bmi</th>\n",
       "      <th>children</th>\n",
       "      <th>smoker</th>\n",
       "      <th>region</th>\n",
       "      <th>charges</th>\n",
       "    </tr>\n",
       "  </thead>\n",
       "  <tbody>\n",
       "    <tr>\n",
       "      <th>0</th>\n",
       "      <td>19</td>\n",
       "      <td>female</td>\n",
       "      <td>27.900</td>\n",
       "      <td>0</td>\n",
       "      <td>yes</td>\n",
       "      <td>southwest</td>\n",
       "      <td>16884.92400</td>\n",
       "    </tr>\n",
       "    <tr>\n",
       "      <th>1</th>\n",
       "      <td>18</td>\n",
       "      <td>male</td>\n",
       "      <td>33.770</td>\n",
       "      <td>1</td>\n",
       "      <td>no</td>\n",
       "      <td>southeast</td>\n",
       "      <td>1725.55230</td>\n",
       "    </tr>\n",
       "    <tr>\n",
       "      <th>2</th>\n",
       "      <td>28</td>\n",
       "      <td>male</td>\n",
       "      <td>33.000</td>\n",
       "      <td>3</td>\n",
       "      <td>no</td>\n",
       "      <td>southeast</td>\n",
       "      <td>4449.46200</td>\n",
       "    </tr>\n",
       "    <tr>\n",
       "      <th>3</th>\n",
       "      <td>33</td>\n",
       "      <td>male</td>\n",
       "      <td>22.705</td>\n",
       "      <td>0</td>\n",
       "      <td>no</td>\n",
       "      <td>northwest</td>\n",
       "      <td>21984.47061</td>\n",
       "    </tr>\n",
       "    <tr>\n",
       "      <th>4</th>\n",
       "      <td>32</td>\n",
       "      <td>male</td>\n",
       "      <td>28.880</td>\n",
       "      <td>0</td>\n",
       "      <td>no</td>\n",
       "      <td>northwest</td>\n",
       "      <td>3866.85520</td>\n",
       "    </tr>\n",
       "  </tbody>\n",
       "</table>\n",
       "</div>"
      ],
      "text/plain": [
       "   age     sex     bmi  children smoker     region      charges\n",
       "0   19  female  27.900         0    yes  southwest  16884.92400\n",
       "1   18    male  33.770         1     no  southeast   1725.55230\n",
       "2   28    male  33.000         3     no  southeast   4449.46200\n",
       "3   33    male  22.705         0     no  northwest  21984.47061\n",
       "4   32    male  28.880         0     no  northwest   3866.85520"
      ]
     },
     "execution_count": 12,
     "metadata": {},
     "output_type": "execute_result"
    }
   ],
   "source": [
    "df.head()"
   ]
  },
  {
   "cell_type": "code",
   "execution_count": 24,
   "metadata": {},
   "outputs": [],
   "source": [
    "#create lists for each variable\n",
    "import csv \n",
    "ages = []\n",
    "sex = []\n",
    "bmi = []\n",
    "children = []\n",
    "smoker = []\n",
    "region = []\n",
    "charges = []\n",
    "\n",
    "with open('insurance.csv') as insurance:\n",
    "    data = csv.DictReader(insurance)\n",
    "\n",
    "    for i in data:\n",
    "        ages.append(i['age'])\n",
    "        sex.append(i['sex'])\n",
    "        bmi.append(i['bmi'])\n",
    "        children.append(i['children'])\n",
    "        smoker.append(i['smoker'])\n",
    "        region.append(i['region'])\n",
    "        charges.append(i['charges'])\n",
    "        \n",
    "ages = [int(element) for element in ages]\n",
    "charges = [float(element) for element in charges]\n",
    "children = [int(element) for element in children]\n"
   ]
  },
  {
   "cell_type": "code",
   "execution_count": 51,
   "metadata": {},
   "outputs": [
    {
     "name": "stdout",
     "output_type": "stream",
     "text": [
      "The average age of a patient is 39\n"
     ]
    }
   ],
   "source": [
    "#avg age of patients\n",
    "\n",
    "total_ages = 0\n",
    "for age in ages:\n",
    "    total_ages += age\n",
    "avg_age = total_ages / len(ages)\n",
    "print('The average age of a patient is {}'.format(round(avg_age)))"
   ]
  },
  {
   "cell_type": "code",
   "execution_count": 105,
   "metadata": {},
   "outputs": [
    {
     "name": "stdout",
     "output_type": "stream",
     "text": [
      "662\n",
      "676\n",
      "49.48% of patients are female\n",
      "50.52% of patients are male\n",
      "The average insurance cost for females is $12569.58\n",
      "The average insurance cost for males is $13956.75\n",
      "The difference in average costs for males vs females is $1387.17\n"
     ]
    }
   ],
   "source": [
    "#avg sex of patients\n",
    "\n",
    "total_patients = len(sex)\n",
    "total_females = 0\n",
    "total_males = 0\n",
    "for x in sex:\n",
    "    if x == 'female':\n",
    "        total_females +=1\n",
    "    elif x == 'male':\n",
    "        total_males +=1\n",
    "        \n",
    "print(total_females)\n",
    "print(total_males)\n",
    "\n",
    "pct_female = round(total_females / total_patients *100, 2)\n",
    "pct_male = round(total_males / total_patients *100, 2)\n",
    "\n",
    "\n",
    "print(\"{}% of patients are female\".format(pct_female))\n",
    "print(\"{}% of patients are male\".format(pct_male))\n",
    "\n",
    "#the average patient is male\n",
    "\n",
    "\n",
    "#avg cost for sex\n",
    "total_costs_female = 0\n",
    "total_costs_male = 0\n",
    "gender_costs = list(zip(sex, charges))\n",
    "for x, y in gender_costs:\n",
    "    if x == 'female':\n",
    "        total_costs_female += y\n",
    "    elif x == 'male':\n",
    "        total_costs_male += y\n",
    "\n",
    "avg_costs_female = round(total_costs_female / total_females, 2)\n",
    "avg_costs_male = round(total_costs_male / total_males, 2)\n",
    "\n",
    "gender_diff_avg_costs = avg_costs_male - avg_costs_female\n",
    "\n",
    "print('The average insurance cost for females is ${}'.format(avg_costs_female))\n",
    "print('The average insurance cost for males is ${}'.format(avg_costs_male))\n",
    "\n",
    "\n",
    "print('The difference in average costs for males vs females is ${}'. format(gender_diff_avg_costs))     "
   ]
  },
  {
   "cell_type": "code",
   "execution_count": 91,
   "metadata": {},
   "outputs": [
    {
     "name": "stdout",
     "output_type": "stream",
     "text": [
      "['southwest', 'southeast', 'northwest', 'northeast']\n",
      "{'southwest': 325, 'southeast': 364, 'northwest': 325, 'northeast': 324}\n",
      "The region where most (27.2%) patients come from is Southeast\n",
      "{'southwest': 24.29, 'southeast': 27.2, 'northwest': 24.29, 'northeast': 24.22}\n"
     ]
    }
   ],
   "source": [
    "#analysing regions of patients\n",
    "unique_regions = []\n",
    "for r in region:\n",
    "    if r not in unique_regions:\n",
    "        unique_regions.append(r)\n",
    "print(unique_regions)\n",
    "\n",
    "#counting number of patients from each region\n",
    "region_count = {r: region.count(r) for r in region}\n",
    "print(region_count)\n",
    "#max_region_count = max(region_count.values())\n",
    "max_count = 0\n",
    "max_region = ''\n",
    "total_count = 0\n",
    "for key,value in region_count.items():\n",
    "    total_count += value\n",
    "    if value > max_count:\n",
    "        max_count = value\n",
    "        max_region = key\n",
    "\n",
    "max_pct = round(max_count / total_count * 100, 2)\n",
    "\n",
    "print('The region where most ({}%) patients come from is {}'.format(max_pct, max_region.capitalize()))\n",
    "\n",
    "\n",
    "#converting values to percentages\n",
    "region_pcts = {}\n",
    "pct=[]\n",
    "for key,value in region_count.items():\n",
    "    pct.append(round(value/total_count *100, 2))\n",
    "keys = []\n",
    "for key in region_count.keys():\n",
    "    keys.append(key)\n",
    "    \n",
    "region_pcts = {key: value for key, value in zip(keys, pct)}\n",
    "print(region_pcts)\n",
    "\n"
   ]
  },
  {
   "cell_type": "code",
   "execution_count": 132,
   "metadata": {},
   "outputs": [
    {
     "name": "stdout",
     "output_type": "stream",
     "text": [
      "274\n",
      "1064\n",
      "20.48% of patients smoke\n",
      "79.52% of patients are non-smokers\n",
      "The average insurance cost for a smoker is $32050.23\n",
      "The average insurance cost for a non-smoker is $8434.27\n",
      "The difference in average insurances costs for smokers vs non-smokers is $23615.96\n",
      "It is 3.8 times more expensive to be a smoker\n"
     ]
    }
   ],
   "source": [
    "#comparison of costs of smokers vs non-smokers\n",
    "total_smokers = 0\n",
    "total_nonsmokers = 0\n",
    "\n",
    "for x in smoker:\n",
    "    if x == 'yes':\n",
    "        total_smokers +=1\n",
    "    elif x == 'no':\n",
    "        total_nonsmokers +=1\n",
    "print(total_smokers)\n",
    "print(total_nonsmokers)\n",
    "\n",
    "pct_smokers = round(total_smokers / total_count * 100, 2)\n",
    "pct_nonsmokers = round(total_nonsmokers / total_count * 100, 2)\n",
    "\n",
    "print('{}% of patients smoke'.format(pct_smokers))\n",
    "print('{}% of patients are non-smokers'.format(pct_nonsmokers))\n",
    "\n",
    "total_cost_smoker = 0\n",
    "total_cost_nonsmoker = 0\n",
    "comparison = list(zip(smoker, charges))\n",
    "for x,y in comparison:\n",
    "    if x=='yes':\n",
    "        total_cost_smoker +=y\n",
    "    if x=='no':\n",
    "        total_cost_nonsmoker +=y\n",
    "        \n",
    "avg_cost_smoker = round(total_cost_smoker / total_smokers, 2)\n",
    "avg_cost_nonsmoker = round(total_cost_nonsmoker / total_nonsmokers, 2)\n",
    "\n",
    "print('The average insurance cost for a smoker is ${}'.format(avg_cost_smoker))\n",
    "print('The average insurance cost for a non-smoker is ${}'.format(avg_cost_nonsmoker))\n",
    "\n",
    "avg_cost_diff_smoking = avg_cost_smoker - avg_cost_nonsmoker\n",
    "\n",
    "times_expensive = round(avg_cost_smoker / avg_cost_nonsmoker, 2)\n",
    "\n",
    "print('The difference in average insurances costs for smokers vs non-smokers is ${}'.format(avg_cost_diff_smoking))\n",
    "\n",
    "print('It is {} times more expensive to be a smoker'.format(times_expensive))"
   ]
  },
  {
   "cell_type": "code",
   "execution_count": 131,
   "metadata": {
    "scrolled": true
   },
   "outputs": [
    {
     "name": "stdout",
     "output_type": "stream",
     "text": [
      "41.97% of smokers are female whereas 58.03% of smokers are male\n",
      "The average cost for a female smoker is $30679.0 whereas it is $33042.01 for a male smoker\n",
      "The average cost for a female non-smoker is $8762.3 whereas it is $8087.2 for a male non-smoker\n",
      "The average non-smoking woman has to pay $675.1 more than a non-smoking man does for her insurance\n"
     ]
    }
   ],
   "source": [
    "#comparison of female (non)smokers vs male (non)smokers\n",
    "\n",
    "#total_smokers\n",
    "#total_cost_smoker\n",
    "#total_cost_nonsmoker\n",
    "total_female_smokers = 0\n",
    "total_female_nonsmokers = 0\n",
    "total_male_smokers = 0\n",
    "total_male_nonsmokers = 0\n",
    "\n",
    "total_female_smoker_costs = 0\n",
    "total_female_nonsmoker_costs = 0\n",
    "total_male_smoker_costs = 0\n",
    "total_male_nonsmoker_costs = 0\n",
    "\n",
    "smokegender = list(zip(sex, smoker, charges))\n",
    "for x, y, z in smokegender:\n",
    "    if x == 'female':\n",
    "        if y == 'yes':\n",
    "            total_female_smokers +=1\n",
    "            total_female_smoker_costs += z\n",
    "        elif y == 'no':\n",
    "            total_female_nonsmokers +=1\n",
    "            total_female_nonsmoker_costs +=z\n",
    "    elif x == 'male':\n",
    "        if y == 'yes':\n",
    "            total_male_smokers +=1\n",
    "            total_male_smoker_costs +=z\n",
    "        elif y == 'no':\n",
    "            total_male_nonsmokers +=1\n",
    "            total_male_nonsmoker_costs += z\n",
    "\n",
    "#print(total_smokers)\n",
    "#print(total_female_smokers)\n",
    "#print(total_male_smokers)\n",
    "\n",
    "pct_female_smokers = round(total_female_smokers / total_smokers *100, 2)\n",
    "pct_male_smokers = round(total_male_smokers / total_smokers *100, 2)\n",
    "print('{}% of smokers are female whereas {}% of smokers are male'.format(pct_female_smokers, pct_male_smokers))\n",
    "\n",
    "avg_female_smoker_cost = round(total_female_smoker_costs / total_female_smokers,2)\n",
    "avg_female_nonsmoker_cost = round(total_female_nonsmoker_costs /total_female_nonsmokers,2)\n",
    "avg_male_smoker_cost = round(total_male_smoker_costs / total_male_smokers, 2)\n",
    "avg_male_nonsmoker_cost = round(total_male_nonsmoker_costs /total_male_nonsmokers,2)\n",
    "\n",
    "print('The average cost for a female smoker is ${} whereas it is ${} for a male smoker'.format(avg_female_smoker_cost, avg_male_smoker_cost))\n",
    "\n",
    "print('The average cost for a female non-smoker is ${} whereas it is ${} for a male non-smoker'.format(avg_female_nonsmoker_cost, avg_male_nonsmoker_cost))\n",
    "\n",
    "\n",
    "nonsmoker_gender_diff = round(avg_female_nonsmoker_cost - avg_male_nonsmoker_cost, 2)\n",
    "\n",
    "print('The average non-smoking woman has to pay ${} more than a non-smoking man does for her insurance'. format(nonsmoker_gender_diff))"
   ]
  },
  {
   "cell_type": "code",
   "execution_count": null,
   "metadata": {},
   "outputs": [],
   "source": []
  }
 ],
 "metadata": {
  "kernelspec": {
   "display_name": "Python 3",
   "language": "python",
   "name": "python3"
  },
  "language_info": {
   "codemirror_mode": {
    "name": "ipython",
    "version": 3
   },
   "file_extension": ".py",
   "mimetype": "text/x-python",
   "name": "python",
   "nbconvert_exporter": "python",
   "pygments_lexer": "ipython3",
   "version": "3.7.1"
  }
 },
 "nbformat": 4,
 "nbformat_minor": 4
}
